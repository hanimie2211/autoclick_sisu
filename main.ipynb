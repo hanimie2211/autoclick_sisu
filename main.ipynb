{
 "cells": [
  {
   "cell_type": "code",
   "execution_count": 12,
   "metadata": {},
   "outputs": [],
   "source": [
    "from selenium import webdriver\n",
    "from selenium.webdriver.chrome.service import Service\n",
    "from webdriver_manager.chrome import ChromeDriverManager\n",
    "from selenium.webdriver.common.keys import Keys\n",
    "import time\n",
    "from selenium.webdriver.support import expected_conditions as EC\n",
    "from selenium.webdriver.common.by import By\n",
    "from selenium.webdriver.support.ui import WebDriverWait\n",
    "from selenium.webdriver.common.action_chains import ActionChains\n",
    "import pandas as pd"
   ]
  },
  {
   "cell_type": "code",
   "execution_count": 13,
   "metadata": {},
   "outputs": [],
   "source": [
    "options = webdriver.ChromeOptions()\n",
    "options.add_experimental_option('useAutomationExtension', False)\n",
    "options.add_argument(\"window-size=1200x600\")\n"
   ]
  },
  {
   "cell_type": "code",
   "execution_count": 14,
   "metadata": {},
   "outputs": [],
   "source": [
    "df = pd.read_csv(\"./script.txt\")\n",
    "mail_list = df[\"mail\"].tolist()\n",
    "pass_list = df[\"pass\"].tolist()\n",
    "arr = list(zip(mail_list, pass_list))"
   ]
  },
  {
   "cell_type": "code",
   "execution_count": 15,
   "metadata": {},
   "outputs": [],
   "source": [
    "url = \"https://cardano.ideascale.com/c/idea/104642\"\n",
    "post_id = url.rsplit(\"/\", maxsplit=1)[-1]"
   ]
  },
  {
   "cell_type": "code",
   "execution_count": 16,
   "metadata": {},
   "outputs": [],
   "source": [
    "driver = webdriver.Chrome(service=Service(\"YOUR_DRIVER_PATH\"), options=options)\n",
    "for idx, acc in enumerate(arr):\n",
    "    driver.get(url)\n",
    "    driver.maximize_window()\n",
    "\n",
    "    driver.implicitly_wait(20)\n",
    "    if idx == 0:\n",
    "        accept_button = driver.find_element(by=By.CSS_SELECTOR, value=\"button[data-action-url='/a/cookie-consent/accept']\")\n",
    "        accept_button.click()\n",
    "\n",
    "    driver.refresh()\n",
    "    login_email_input = driver.find_element(by=By.ID, value='login-email')\n",
    "    driver.implicitly_wait(20)\n",
    "    ActionChains(driver).move_to_element(login_email_input).click(login_email_input).perform()\n",
    "    login_email_input.send_keys(acc[0])\n",
    "\n",
    "    login_password_input = driver.find_element(by=By.ID, value='login-password')\n",
    "    driver.implicitly_wait(20)\n",
    "    ActionChains(driver).move_to_element(login_password_input).click(login_password_input).perform()\n",
    "    login_password_input.send_keys(acc[1])\n",
    "\n",
    "    button = driver.find_element(by=By.CSS_SELECTOR, value='.btn.btn-xl.btn-primary.btn-block.ga-tracker.disabled-when-loading.btn-captcha')\n",
    "    button.click()\n",
    "\n",
    "    driver.implicitly_wait(20)\n",
    "    like_button = driver.find_element(by=By.ID, value=f'kudos-idea-details-{post_id}')\n",
    "    for _ in range(3):\n",
    "        time.sleep(2)\n",
    "        driver.implicitly_wait(20)\n",
    "        like_button.click()\n",
    "\n",
    "    time.sleep(2)\n",
    "    driver.implicitly_wait(20)\n",
    "    account_button = driver.find_element(by=By.CSS_SELECTOR,value=\"button[data-test-element-id='btn-toggle-profile-menu']\")\n",
    "    account_button.click()\n",
    "\n",
    "    time.sleep(2)\n",
    "    driver.implicitly_wait(20)\n",
    "    signout_button = driver.find_element(by=By.CSS_SELECTOR,value=\"a[data-test-element-id='logout-link']\")\n",
    "    signout_button.click()\n",
    "\n",
    "    time.sleep(1)\n",
    "    driver.implicitly_wait(20)\n",
    "    driver.execute_script(\"window.open('', '_blank');\")\n",
    "    driver.switch_to.window(driver.window_handles[0])\n",
    "    driver.close()\n",
    "    driver.switch_to.window(driver.window_handles[0])\n"
   ]
  },
  {
   "cell_type": "code",
   "execution_count": null,
   "metadata": {},
   "outputs": [],
   "source": []
  }
 ],
 "metadata": {
  "kernelspec": {
   "display_name": "Python 3",
   "language": "python",
   "name": "python3"
  },
  "language_info": {
   "codemirror_mode": {
    "name": "ipython",
    "version": 3
   },
   "file_extension": ".py",
   "mimetype": "text/x-python",
   "name": "python",
   "nbconvert_exporter": "python",
   "pygments_lexer": "ipython3",
   "version": "3.9.6"
  },
  "orig_nbformat": 4
 },
 "nbformat": 4,
 "nbformat_minor": 2
}
